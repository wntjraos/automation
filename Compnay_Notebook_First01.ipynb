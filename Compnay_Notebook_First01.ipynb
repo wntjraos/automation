{
  "nbformat": 4,
  "nbformat_minor": 0,
  "metadata": {
    "colab": {
      "provenance": [],
      "authorship_tag": "ABX9TyNH1vZkSAP2wmOIqTZJ2Qn6",
      "include_colab_link": true
    },
    "kernelspec": {
      "name": "python3",
      "display_name": "Python 3"
    },
    "language_info": {
      "name": "python"
    }
  },
  "cells": [
    {
      "cell_type": "markdown",
      "metadata": {
        "id": "view-in-github",
        "colab_type": "text"
      },
      "source": [
        "<a href=\"https://colab.research.google.com/github/wntjraos/automation/blob/master/Compnay_Notebook_First01.ipynb\" target=\"_parent\"><img src=\"https://colab.research.google.com/assets/colab-badge.svg\" alt=\"Open In Colab\"/></a>"
      ]
    },
    {
      "cell_type": "code",
      "execution_count": null,
      "metadata": {
        "id": "LFtVfSy5OsvZ"
      },
      "outputs": [],
      "source": [
        "print(1)"
      ]
    },
    {
      "cell_type": "markdown",
      "source": [
        "와 회사 컴퓨터에서 colab을 작성했어요"
      ],
      "metadata": {
        "id": "rM8AMO29PiKV"
      }
    }
  ]
}